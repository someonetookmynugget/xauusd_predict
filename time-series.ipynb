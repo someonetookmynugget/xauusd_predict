{
 "cells": [
  {
   "cell_type": "code",
   "execution_count": 9,
   "metadata": {},
   "outputs": [],
   "source": [
    "import os\n",
    "import sys\n",
    "import math\n",
    "import datetime\n",
    "import numpy as np\n",
    "import pandas as pd\n",
    "import matplotlib.pyplot as plt\n",
    "from tensorflow.keras.layers import Input, Dense, Dropout, LSTM\n",
    "from tensorflow.keras.regularizers import l2\n",
    "from tensorflow.keras import Model\n",
    "from tensorflow.keras.optimizers import Adam\n",
    "from tensorflow.keras.callbacks import ModelCheckpoint, CSVLogger\n",
    "from sklearn.preprocessing import MinMaxScaler\n",
    "#https://tech.zms.co.jp/time-series-prediction/"
   ]
  },
  {
   "cell_type": "code",
   "execution_count": 53,
   "metadata": {},
   "outputs": [],
   "source": [
    "def preprocess():\n",
    "    current_path = os.path.join(Path().resolve(),\"C:/Users/cre/Desktop/git/xauusd_predict/\")\n",
    "    df = pd.read_csv(current_path + 'xauusd.csv', header=0)\n",
    "    for i, d in enumerate(df[\"Date\"]):\n",
    "        if len(df[\"Date\"][i].split(\"/\")[1]) != 2 and len(df[\"Date\"][i].split(\"/\")[2]) != 2:\n",
    "            df[\"Date\"][i] = df[\"Date\"][i].split(\"/\")[0] + \"/0\" + df[\"Date\"][i].split(\"/\")[1] +\"/0\"+df[\"Date\"][i].split(\"/\")[2]\n",
    "        elif len(df[\"Date\"][i].split(\"/\")[1]) != 2:\n",
    "            df[\"Date\"][i] = df[\"Date\"][i].split(\"/\")[0] + \"/0\" + df[\"Date\"][i].split(\"/\")[1] +\"/\"+df[\"Date\"][i].split(\"/\")[2]\n",
    "        elif len(df[\"Date\"][i].split(\"/\")[2]) != 2:\n",
    "            df[\"Date\"][i] = df[\"Date\"][i].split(\"/\")[0] + \"/\" + df[\"Date\"][i].split(\"/\")[1] +\"/0\"+df[\"Date\"][i].split(\"/\")[2]\n",
    "    df['Date'] = pd.to_datetime(df['Date'])\n",
    "    df = df.set_index('Date')\n",
    "\n",
    "    original_data = df.values\n",
    "\n",
    "    return original_data"
   ]
  },
  {
   "cell_type": "code",
   "execution_count": 54,
   "metadata": {},
   "outputs": [],
   "source": [
    "def create_model(hidden_size, batch_size=None, time_steps=None, stateful=False):\n",
    "\n",
    "    inputs = Input(batch_shape=(batch_size, None, 1))\n",
    "    x = inputs\n",
    "    x = LSTM (hidden_size, stateful=stateful, return_sequences=True)(x)\n",
    "    x = Dropout(0.5)(x)\n",
    "    x = LSTM (hidden_size, stateful=stateful, return_sequences=False)(x)\n",
    "    x = Dropout(0.5)(x)\n",
    "    x = Dense(1, kernel_regularizer=l2(0.0001), activation='relu')(x)\n",
    "    outputs = x\n",
    "\n",
    "    model = Model(inputs=inputs, outputs=outputs)\n",
    "\n",
    "    return model"
   ]
  },
  {
   "cell_type": "code",
   "execution_count": 55,
   "metadata": {},
   "outputs": [],
   "source": [
    "# hyper parameters\n",
    "training = True     # 訓練モード or 予測モード\n",
    "train_rate = 0.8    # 訓練データの割合\n",
    "time_steps = 100    # 一度の予測に使うデータ数\n",
    "predict_day = 30    # 予測する日数\n",
    "hidden_size = 64    # 隠れ層の大きさ\n",
    "batch_size = 64     # バッチサイズ\n",
    "epochs = 500        # エポック数"
   ]
  },
  {
   "cell_type": "code",
   "execution_count": 56,
   "metadata": {},
   "outputs": [
    {
     "name": "stderr",
     "output_type": "stream",
     "text": [
      "C:\\Users\\cre\\AppData\\Local\\Temp\\ipykernel_7700\\2712140321.py:6: SettingWithCopyWarning: \n",
      "A value is trying to be set on a copy of a slice from a DataFrame\n",
      "\n",
      "See the caveats in the documentation: https://pandas.pydata.org/pandas-docs/stable/user_guide/indexing.html#returning-a-view-versus-a-copy\n",
      "  df[\"Date\"][i] = df[\"Date\"][i].split(\"/\")[0] + \"/0\" + df[\"Date\"][i].split(\"/\")[1] +\"/0\"+df[\"Date\"][i].split(\"/\")[2]\n",
      "C:\\Users\\cre\\AppData\\Local\\Temp\\ipykernel_7700\\2712140321.py:8: SettingWithCopyWarning: \n",
      "A value is trying to be set on a copy of a slice from a DataFrame\n",
      "\n",
      "See the caveats in the documentation: https://pandas.pydata.org/pandas-docs/stable/user_guide/indexing.html#returning-a-view-versus-a-copy\n",
      "  df[\"Date\"][i] = df[\"Date\"][i].split(\"/\")[0] + \"/0\" + df[\"Date\"][i].split(\"/\")[1] +\"/\"+df[\"Date\"][i].split(\"/\")[2]\n",
      "C:\\Users\\cre\\AppData\\Local\\Temp\\ipykernel_7700\\2712140321.py:10: SettingWithCopyWarning: \n",
      "A value is trying to be set on a copy of a slice from a DataFrame\n",
      "\n",
      "See the caveats in the documentation: https://pandas.pydata.org/pandas-docs/stable/user_guide/indexing.html#returning-a-view-versus-a-copy\n",
      "  df[\"Date\"][i] = df[\"Date\"][i].split(\"/\")[0] + \"/\" + df[\"Date\"][i].split(\"/\")[1] +\"/0\"+df[\"Date\"][i].split(\"/\")[2]\n"
     ]
    }
   ],
   "source": [
    "# データの読み込み\n",
    "from pathlib import Path\n",
    "current_path = os.path.join(Path().resolve(),\"C:/Users/cre/Desktop/git/xauusd_predict/\")\n",
    "original_data = preprocess()       # (3871, 1)\n",
    "\n",
    "# 訓練データとテストデータの分割と正規化   \n",
    "border = math.floor(len(original_data) * train_rate)\n",
    "train = original_data[:border]     # (3096, 1)\n",
    "test  = original_data[border:]     # ( 775, 1)\n",
    "\n",
    "train_scaler = MinMaxScaler(feature_range=(0, 1))\n",
    "train_scaler.fit(train)                         \n",
    "\n",
    "scaled_train = train_scaler.transform(train)\n",
    "scaled_test  = train_scaler.transform(test)    # テストデータを正規化の基準に入れてはならない"
   ]
  },
  {
   "cell_type": "code",
   "execution_count": 103,
   "metadata": {},
   "outputs": [
    {
     "name": "stdout",
     "output_type": "stream",
     "text": [
      "2490\n",
      "100\n"
     ]
    },
    {
     "ename": "ValueError",
     "evalue": "could not broadcast input array from shape (4,100) into shape (100,)",
     "output_type": "error",
     "traceback": [
      "\u001b[1;31m---------------------------------------------------------------------------\u001b[0m",
      "\u001b[1;31mValueError\u001b[0m                                Traceback (most recent call last)",
      "\u001b[1;32mセル6 を c:\\Users\\cre\\Desktop\\git\\xauusd_predict\\time-series.ipynb\u001b[0m in \u001b[0;36m<cell line: 2>\u001b[1;34m()\u001b[0m\n\u001b[0;32m      <a href='vscode-notebook-cell:/c%3A/Users/cre/Desktop/git/xauusd_predict/time-series.ipynb#W5sZmlsZQ%3D%3D?line=7'>8</a>\u001b[0m y_train \u001b[39m=\u001b[39m np\u001b[39m.\u001b[39mzeros((\u001b[39m4\u001b[39m, data_size))                             \u001b[39m# (2966,   1)\u001b[39;00m\n\u001b[0;32m     <a href='vscode-notebook-cell:/c%3A/Users/cre/Desktop/git/xauusd_predict/time-series.ipynb#W5sZmlsZQ%3D%3D?line=9'>10</a>\u001b[0m \u001b[39mfor\u001b[39;00m i \u001b[39min\u001b[39;00m \u001b[39mrange\u001b[39m(data_size):\n\u001b[1;32m---> <a href='vscode-notebook-cell:/c%3A/Users/cre/Desktop/git/xauusd_predict/time-series.ipynb#W5sZmlsZQ%3D%3D?line=10'>11</a>\u001b[0m     x_train[i] \u001b[39m=\u001b[39m scaled_train[i:i \u001b[39m+\u001b[39m time_steps]\u001b[39m.\u001b[39mT              \u001b[39m# (2966, 100)\u001b[39;00m\n\u001b[0;32m     <a href='vscode-notebook-cell:/c%3A/Users/cre/Desktop/git/xauusd_predict/time-series.ipynb#W5sZmlsZQ%3D%3D?line=11'>12</a>\u001b[0m     y_train[i] \u001b[39m=\u001b[39m scaled_train[i \u001b[39m+\u001b[39m time_steps \u001b[39m+\u001b[39m predict_day]    \u001b[39m# (2966,   1)\u001b[39;00m\n\u001b[0;32m     <a href='vscode-notebook-cell:/c%3A/Users/cre/Desktop/git/xauusd_predict/time-series.ipynb#W5sZmlsZQ%3D%3D?line=13'>14</a>\u001b[0m data_size \u001b[39m=\u001b[39m \u001b[39mlen\u001b[39m(scaled_test) \u001b[39m-\u001b[39m time_steps \u001b[39m-\u001b[39m predict_day        \u001b[39m# 645\u001b[39;00m\n",
      "\u001b[1;31mValueError\u001b[0m: could not broadcast input array from shape (4,100) into shape (100,)"
     ]
    }
   ],
   "source": [
    "# 学習モード\n",
    "if training:\n",
    "    # 入力データとラベルデータの作成\n",
    "    data_size = len(scaled_train) - time_steps - predict_day        # 2940 \n",
    "    print(data_size)     \n",
    "    print(time_steps) # 2940\n",
    "    x_train = np.zeros((data_size, time_steps))                    # (2940, 100)\n",
    "    y_train = np.zeros((4, data_size))                             # (2940,   1)\n",
    "    \n",
    "    for i in range(data_size):\n",
    "        x_train[i] = scaled_train[i:i + time_steps].T              # (2940, 100)\n",
    "        y_train[i] = scaled_train[i + time_steps + predict_day]    # (2940,   1)\n",
    "\n",
    "    data_size = len(scaled_test) - time_steps - predict_day        # 645\n",
    "    x_test = np.zeros((data_size, time_steps))                     # (645, 100)\n",
    "    y_test = np.zeros((data_size, 1))                              # (645,   1)\n",
    "    for i in range(data_size):\n",
    "        x_test[i] = scaled_test[i:i + time_steps].T                # (645, 100)\n",
    "        y_test[i] = scaled_test[i + time_steps + predict_day]      # (645,   1)\n",
    "\n",
    "    # モデルの入力に形状を合わせる\n",
    "    x_train = x_train.reshape(len(x_train), time_steps, 1)  # (2940, 100, 1)\n",
    "    x_test  = x_test.reshape(len(x_test), time_steps, 1)    # ( 645, 100, 1)\n",
    "    y_train = y_train.reshape(len(y_train), 1, 1)           # (2940,   1, 1)\n",
    "    y_test  = y_test.reshape(len(y_test), 1, 1)             # ( 645,   1, 1)"
   ]
  }
 ],
 "metadata": {
  "kernelspec": {
   "display_name": "Python 3.8.5 64-bit",
   "language": "python",
   "name": "python3"
  },
  "language_info": {
   "codemirror_mode": {
    "name": "ipython",
    "version": 3
   },
   "file_extension": ".py",
   "mimetype": "text/x-python",
   "name": "python",
   "nbconvert_exporter": "python",
   "pygments_lexer": "ipython3",
   "version": "3.8.5"
  },
  "orig_nbformat": 4,
  "vscode": {
   "interpreter": {
    "hash": "ae8933e49e7404c01ea7555bf234dfe16682e725decc8b51153b4c3c688293ec"
   }
  }
 },
 "nbformat": 4,
 "nbformat_minor": 2
}
